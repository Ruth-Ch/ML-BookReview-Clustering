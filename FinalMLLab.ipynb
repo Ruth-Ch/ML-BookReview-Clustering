{
 "cells": [
  {
   "cell_type": "markdown",
   "metadata": {},
   "source": [
    "# Lab 8: Define and Solve an ML Problem of Your Choosing"
   ]
  },
  {
   "cell_type": "code",
   "execution_count": 28,
   "metadata": {},
   "outputs": [],
   "source": [
    "import pandas as pd\n",
    "import numpy as np\n",
    "import os \n",
    "import matplotlib.pyplot as plt\n",
    "import seaborn as sns\n",
    "\n"
   ]
  },
  {
   "cell_type": "markdown",
   "metadata": {},
   "source": [
    "In this lab assignment, you will follow the machine learning life cycle and implement a model to solve a machine learning problem of your choosing. You will select a data set and choose a predictive problem that the data set supports.  You will then inspect the data with your problem in mind and begin to formulate a  project plan. You will then implement the machine learning project plan. \n",
    "\n",
    "You will complete the following tasks:\n",
    "\n",
    "1. Build Your DataFrame\n",
    "2. Define Your ML Problem\n",
    "3. Perform exploratory data analysis to understand your data.\n",
    "4. Define Your Project Plan\n",
    "5. Implement Your Project Plan:\n",
    "    * Prepare your data for your model.\n",
    "    * Fit your model to the training data and evaluate your model.\n",
    "    * Improve your model's performance."
   ]
  },
  {
   "cell_type": "markdown",
   "metadata": {},
   "source": [
    "## Part 1: Build Your DataFrame\n",
    "\n",
    "You will have the option to choose one of four data sets that you have worked with in this program:\n",
    "\n",
    "* The \"census\" data set that contains Census information from 1994: `censusData.csv`\n",
    "* Airbnb NYC \"listings\" data set: `airbnbListingsData.csv`\n",
    "* World Happiness Report (WHR) data set: `WHR2018Chapter2OnlineData.csv`\n",
    "* Book Review data set: `bookReviewsData.csv`\n",
    "\n",
    "Note that these are variations of the data sets that you have worked with in this program. For example, some do not include some of the preprocessing necessary for specific models. \n",
    "\n",
    "#### Load a Data Set and Save it as a Pandas DataFrame\n",
    "\n",
    "The code cell below contains filenames (path + filename) for each of the four data sets available to you.\n",
    "\n",
    "<b>Task:</b> In the code cell below, use the same method you have been using to load the data using `pd.read_csv()` and save it to DataFrame `df`. \n",
    "\n",
    "You can load each file as a new DataFrame to inspect the data before choosing your data set."
   ]
  },
  {
   "cell_type": "code",
   "execution_count": 29,
   "metadata": {},
   "outputs": [
    {
     "data": {
      "text/html": [
       "<div>\n",
       "<style scoped>\n",
       "    .dataframe tbody tr th:only-of-type {\n",
       "        vertical-align: middle;\n",
       "    }\n",
       "\n",
       "    .dataframe tbody tr th {\n",
       "        vertical-align: top;\n",
       "    }\n",
       "\n",
       "    .dataframe thead th {\n",
       "        text-align: right;\n",
       "    }\n",
       "</style>\n",
       "<table border=\"1\" class=\"dataframe\">\n",
       "  <thead>\n",
       "    <tr style=\"text-align: right;\">\n",
       "      <th></th>\n",
       "      <th>Review</th>\n",
       "      <th>Positive Review</th>\n",
       "    </tr>\n",
       "  </thead>\n",
       "  <tbody>\n",
       "    <tr>\n",
       "      <th>0</th>\n",
       "      <td>This was perhaps the best of Johannes Steinhof...</td>\n",
       "      <td>True</td>\n",
       "    </tr>\n",
       "    <tr>\n",
       "      <th>1</th>\n",
       "      <td>This very fascinating book is a story written ...</td>\n",
       "      <td>True</td>\n",
       "    </tr>\n",
       "    <tr>\n",
       "      <th>2</th>\n",
       "      <td>The four tales in this collection are beautifu...</td>\n",
       "      <td>True</td>\n",
       "    </tr>\n",
       "    <tr>\n",
       "      <th>3</th>\n",
       "      <td>The book contained more profanity than I expec...</td>\n",
       "      <td>False</td>\n",
       "    </tr>\n",
       "    <tr>\n",
       "      <th>4</th>\n",
       "      <td>We have now entered a second time of deep conc...</td>\n",
       "      <td>True</td>\n",
       "    </tr>\n",
       "  </tbody>\n",
       "</table>\n",
       "</div>"
      ],
      "text/plain": [
       "                                              Review  Positive Review\n",
       "0  This was perhaps the best of Johannes Steinhof...             True\n",
       "1  This very fascinating book is a story written ...             True\n",
       "2  The four tales in this collection are beautifu...             True\n",
       "3  The book contained more profanity than I expec...            False\n",
       "4  We have now entered a second time of deep conc...             True"
      ]
     },
     "execution_count": 29,
     "metadata": {},
     "output_type": "execute_result"
    }
   ],
   "source": [
    "# File names of the four data sets\n",
    "adultDataSet_filename = os.path.join(os.getcwd(), \"data\", \"censusData.csv\")\n",
    "airbnbDataSet_filename = os.path.join(os.getcwd(), \"data\", \"airbnbListingsData.csv\")\n",
    "WHRDataSet_filename = os.path.join(os.getcwd(), \"data\", \"WHR2018Chapter2OnlineData.csv\")\n",
    "bookReviewDataSet_filename = os.path.join(os.getcwd(), \"data\", \"bookReviewsData.csv\")\n",
    "\n",
    "\n",
    "df =pd.read_csv(bookReviewDataSet_filename) # YOUR CODE HERE\n",
    "\n",
    "df.head()"
   ]
  },
  {
   "cell_type": "markdown",
   "metadata": {},
   "source": [
    "## Part 2: Define Your ML Problem\n",
    "\n",
    "Next you will formulate your ML Problem. In the markdown cell below, answer the following questions:\n",
    "\n",
    "1. List the data set you have chosen.\n",
    "2. What will you be predicting? What is the label?\n",
    "3. Is this a supervised or unsupervised learning problem? Is this a clustering, classification or regression problem? Is it a binary classificaiton or multi-class classifiction problem?\n",
    "4. What are your features? (note: this list may change after your explore your data)\n",
    "5. Explain why this is an important problem. In other words, how would a company create value with a model that predicts this label?"
   ]
  },
  {
   "cell_type": "markdown",
   "metadata": {},
   "source": [
    "\n",
    "1. Book Review data set: bookReviewsData.csv\n",
    "2. What are the common themes/topics people write about in book reviews? There is no label as this is an unsupervised learning problem. The goal is to uncover hidden topics in the reviews using topic modeling.\n",
    "3. It is an Unsupervised Learning.\n",
    "4. The primary feature is the review text. We’ll extract features using TF-IDF vectorization of the text.\n",
    "5. Understanding what people focus on in reviews (e.g., plot, characters, writing style, etc.) helps companies like Goodreads to identify emerging trends or reader concerns,automatically tag reviews or cluster similar ones and recommend books based on reader interests."
   ]
  },
  {
   "cell_type": "markdown",
   "metadata": {},
   "source": [
    "## Part 3: Understand Your Data\n",
    "\n",
    "The next step is to perform exploratory data analysis. Inspect and analyze your data set with your machine learning problem in mind. Consider the following as you inspect your data:\n",
    "\n",
    "1. What data preparation techniques would you like to use? These data preparation techniques may include:\n",
    "\n",
    "    * addressing missingness, such as replacing missing values with means\n",
    "    * finding and replacing outliers\n",
    "    * renaming features and labels\n",
    "    * finding and replacing outliers\n",
    "    * performing feature engineering techniques such as one-hot encoding on categorical features\n",
    "    * selecting appropriate features and removing irrelevant features\n",
    "    * performing specific data cleaning and preprocessing techniques for an NLP problem\n",
    "    * addressing class imbalance in your data sample to promote fair AI\n",
    "    \n",
    "\n",
    "2. What machine learning model (or models) you would like to use that is suitable for your predictive problem and data?\n",
    "    * Are there other data preparation techniques that you will need to apply to build a balanced modeling data set for your problem and model? For example, will you need to scale your data?\n",
    " \n",
    " \n",
    "3. How will you evaluate and improve the model's performance?\n",
    "    * Are there specific evaluation metrics and methods that are appropriate for your model?\n",
    "    \n",
    "\n",
    "Think of the different techniques you have used to inspect and analyze your data in this course. These include using Pandas to apply data filters, using the Pandas `describe()` method to get insight into key statistics for each column, using the Pandas `dtypes` property to inspect the data type of each column, and using Matplotlib and Seaborn to detect outliers and visualize relationships between features and labels. If you are working on a classification problem, use techniques you have learned to determine if there is class imbalance.\n",
    "\n",
    "<b>Task</b>: Use the techniques you have learned in this course to inspect and analyze your data. You can import additional packages that you have used in this course that you will need to perform this task.\n",
    "\n",
    "<b>Note</b>: You can add code cells if needed by going to the <b>Insert</b> menu and clicking on <b>Insert Cell Below</b> in the drop-drown menu."
   ]
  },
  {
   "cell_type": "code",
   "execution_count": 30,
   "metadata": {},
   "outputs": [
    {
     "name": "stdout",
     "output_type": "stream",
     "text": [
      "<class 'pandas.core.frame.DataFrame'>\n",
      "RangeIndex: 1973 entries, 0 to 1972\n",
      "Data columns (total 2 columns):\n",
      " #   Column           Non-Null Count  Dtype \n",
      "---  ------           --------------  ----- \n",
      " 0   Review           1973 non-null   object\n",
      " 1   Positive Review  1973 non-null   bool  \n",
      "dtypes: bool(1), object(1)\n",
      "memory usage: 17.5+ KB\n"
     ]
    }
   ],
   "source": [
    "# YOUR CODE HERE\n",
    "\n",
    "df.info()"
   ]
  },
  {
   "cell_type": "markdown",
   "metadata": {},
   "source": [
    "## Part 4: Define Your Project Plan\n",
    "\n",
    "Now that you understand your data, in the markdown cell below, define your plan to implement the remaining phases of the machine learning life cycle (data preparation, modeling, evaluation) to solve your ML problem. Answer the following questions:\n",
    "\n",
    "* Do you have a new feature list? If so, what are the features that you chose to keep and remove after inspecting the data? \n",
    "* Explain different data preparation techniques that you will use to prepare your data for modeling.\n",
    "* What is your model (or models)?\n",
    "* Describe your plan to train your model, analyze its performance and then improve the model. That is, describe your model building, validation and selection plan to produce a model that generalizes well to new data. "
   ]
  },
  {
   "cell_type": "markdown",
   "metadata": {},
   "source": [
    "\n",
    "1.After inspecting the data, I plan to keep only the `Review` column, which contains the raw text. I will remove the `Positive Review` column since this is an unsupervised problem. I will also create new features like cleaned text and review length to help with analysis.\n",
    "2.To prepare the data for topic modeling, I will:\n",
    "- Clean the text by lowercasing, removing punctuation and numbers, and removing stopwords\n",
    "- Create a column for cleaned text\n",
    "- Filter out very short reviews (less than 5 words)\n",
    "- Use TF-IDF vectorization to convert text into numerical features for modeling\n",
    "3.I will be using KMeans Clustering.\n",
    "4.I will train the KMeans model on the TF-IDF matrix\n",
    "- I will try different values for `k` (number of clusters), such as 3, 5, or 7\n",
    "- I will evaluate the clusters by:\n",
    "- Printing the top words that appear in each cluster\n",
    "- Reading example reviews from each cluster to check for patterns\n",
    "- I will improve the model by adjusting the number of clusters and TF-IDF settings (like `min_df`, `max_df`, or using bi-grams)\n",
    "  \n",
    "\n"
   ]
  },
  {
   "cell_type": "markdown",
   "metadata": {},
   "source": [
    "## Part 5: Implement Your Project Plan\n",
    "\n",
    "<b>Task:</b> In the code cell below, import additional packages that you have used in this course that you will need to implement your project plan."
   ]
  },
  {
   "cell_type": "code",
   "execution_count": 31,
   "metadata": {},
   "outputs": [],
   "source": [
    "# YOUR CODE HERE\n",
    "from sklearn.feature_extraction.text import TfidfVectorizer\n",
    "from sklearn.cluster import KMeans\n",
    "import re\n",
    "import string\n",
    "from sklearn.feature_extraction.text import ENGLISH_STOP_WORDS\n",
    "\n",
    "\n"
   ]
  },
  {
   "cell_type": "markdown",
   "metadata": {},
   "source": [
    "<b>Task:</b> Use the rest of this notebook to carry out your project plan. \n",
    "\n",
    "You will:\n",
    "\n",
    "1. Prepare your data for your model.\n",
    "2. Fit your model to the training data and evaluate your model.\n",
    "3. Improve your model's performance by performing model selection and/or feature selection techniques to find best model for your problem.\n",
    "\n",
    "Add code cells below and populate the notebook with commentary, code, analyses, results, and figures as you see fit. "
   ]
  },
  {
   "cell_type": "code",
   "execution_count": 32,
   "metadata": {},
   "outputs": [
    {
     "data": {
      "text/html": [
       "<div>\n",
       "<style scoped>\n",
       "    .dataframe tbody tr th:only-of-type {\n",
       "        vertical-align: middle;\n",
       "    }\n",
       "\n",
       "    .dataframe tbody tr th {\n",
       "        vertical-align: top;\n",
       "    }\n",
       "\n",
       "    .dataframe thead th {\n",
       "        text-align: right;\n",
       "    }\n",
       "</style>\n",
       "<table border=\"1\" class=\"dataframe\">\n",
       "  <thead>\n",
       "    <tr style=\"text-align: right;\">\n",
       "      <th></th>\n",
       "      <th>Review</th>\n",
       "      <th>cleaned_review</th>\n",
       "      <th>review_length</th>\n",
       "    </tr>\n",
       "  </thead>\n",
       "  <tbody>\n",
       "    <tr>\n",
       "      <th>0</th>\n",
       "      <td>This was perhaps the best of Johannes Steinhof...</td>\n",
       "      <td>best johannes steinhoffs books does deal stell...</td>\n",
       "      <td>41</td>\n",
       "    </tr>\n",
       "    <tr>\n",
       "      <th>1</th>\n",
       "      <td>This very fascinating book is a story written ...</td>\n",
       "      <td>fascinating book story written form numerous l...</td>\n",
       "      <td>120</td>\n",
       "    </tr>\n",
       "    <tr>\n",
       "      <th>2</th>\n",
       "      <td>The four tales in this collection are beautifu...</td>\n",
       "      <td>tales collection beautifully composed art just...</td>\n",
       "      <td>31</td>\n",
       "    </tr>\n",
       "    <tr>\n",
       "      <th>3</th>\n",
       "      <td>The book contained more profanity than I expec...</td>\n",
       "      <td>book contained profanity expected read book ri...</td>\n",
       "      <td>15</td>\n",
       "    </tr>\n",
       "    <tr>\n",
       "      <th>4</th>\n",
       "      <td>We have now entered a second time of deep conc...</td>\n",
       "      <td>entered second time deep concern science math ...</td>\n",
       "      <td>151</td>\n",
       "    </tr>\n",
       "  </tbody>\n",
       "</table>\n",
       "</div>"
      ],
      "text/plain": [
       "                                              Review  \\\n",
       "0  This was perhaps the best of Johannes Steinhof...   \n",
       "1  This very fascinating book is a story written ...   \n",
       "2  The four tales in this collection are beautifu...   \n",
       "3  The book contained more profanity than I expec...   \n",
       "4  We have now entered a second time of deep conc...   \n",
       "\n",
       "                                      cleaned_review  review_length  \n",
       "0  best johannes steinhoffs books does deal stell...             41  \n",
       "1  fascinating book story written form numerous l...            120  \n",
       "2  tales collection beautifully composed art just...             31  \n",
       "3  book contained profanity expected read book ri...             15  \n",
       "4  entered second time deep concern science math ...            151  "
      ]
     },
     "execution_count": 32,
     "metadata": {},
     "output_type": "execute_result"
    }
   ],
   "source": [
    "# YOUR CODE HERE\n",
    "# Keep only the 'Review' column and drop 'Positive Review'\n",
    "df = df[['Review']]\n",
    "\n",
    "def clean_text(text):\n",
    "    text = text.lower()\n",
    "    text = re.sub(r'\\d+', '', text)  # Removes numbers\n",
    "    text = text.translate(str.maketrans('', '', string.punctuation))  # Removes punctuation\n",
    "    words = text.split()\n",
    "    words = [word for word in words if word not in ENGLISH_STOP_WORDS]  # Removes stopwords\n",
    "    return \" \".join(words)\n",
    "\n",
    "# Apply cleaning to a new column\n",
    "df['cleaned_review'] = df['Review'].apply(clean_text)\n",
    "\n",
    "# Add review length (word count) column\n",
    "df['review_length'] = df['cleaned_review'].apply(lambda x: len(x.split()))\n",
    "\n",
    "# Remove very short reviews (less than 5 words)\n",
    "df = df[df['review_length'] >= 5]\n",
    "\n",
    "df[['Review', 'cleaned_review', 'review_length']].head()"
   ]
  },
  {
   "cell_type": "code",
   "execution_count": 33,
   "metadata": {},
   "outputs": [],
   "source": [
    "# Create the TF-IDF vectorizer\n",
    "vectorizer = TfidfVectorizer(max_df=0.95, min_df=5, stop_words='english')\n",
    "\n",
    "# Fit and transform the cleaned text\n",
    "X = vectorizer.fit_transform(df['cleaned_review'])\n",
    "\n",
    "# Save the words\n",
    "feature_names = vectorizer.get_feature_names_out()"
   ]
  },
  {
   "cell_type": "code",
   "execution_count": 34,
   "metadata": {},
   "outputs": [],
   "source": [
    "# Set number of clusters\n",
    "k = 5\n",
    "\n",
    "# Train the KMeans model\n",
    "kmeans = KMeans(n_clusters=k, random_state=42)\n",
    "kmeans.fit(X)\n",
    "\n",
    "# Adding cluster labels to the DataFrame\n",
    "df['cluster'] = kmeans.labels_\n"
   ]
  },
  {
   "cell_type": "code",
   "execution_count": 35,
   "metadata": {},
   "outputs": [
    {
     "name": "stdout",
     "output_type": "stream",
     "text": [
      "\n",
      "Cluster 0 Top Words:\n",
      "great, book, information, recommend, lot, read, books, just, dont, know\n",
      "\n",
      "Cluster 1 Top Words:\n",
      "work, book, theory, written, text, edition, does, best, like, just\n",
      "\n",
      "Cluster 2 Top Words:\n",
      "book, read, good, just, really, like, want, reading, books, author\n",
      "\n",
      "Cluster 3 Top Words:\n",
      "book, life, history, read, time, people, children, new, world, just\n",
      "\n",
      "Cluster 4 Top Words:\n",
      "characters, story, book, read, like, books, novel, just, plot, really\n"
     ]
    }
   ],
   "source": [
    "# Show top 10 words in each cluster using the cluster centers\n",
    "\n",
    "for cluster_num in range(k):\n",
    "    print(f\"\\nCluster {cluster_num} Top Words:\")\n",
    "    center = kmeans.cluster_centers_[cluster_num]\n",
    "    top_indices = center.argsort()[-10:][::-1]\n",
    "    top_words = [feature_names[i] for i in top_indices]\n",
    "    print(\", \".join(top_words))\n"
   ]
  },
  {
   "cell_type": "code",
   "execution_count": 36,
   "metadata": {},
   "outputs": [
    {
     "name": "stdout",
     "output_type": "stream",
     "text": [
      "\n",
      " Cluster 0 Sample Reviews:\n",
      "- While this book is a good attempt at placing statistical topics necessary to toxicology in one spot, the mistakes are inexcusable.  Many formula are incorrect as well as text referring to the wrong ta ...\n",
      "\n",
      "- This book is terribly organized.  I'm not sure what happened in writing this book, but it seems clear that Professor Jones did not compile this in the chronological order that it is printed in.\n",
      "\n",
      "My ma ...\n",
      "\n",
      "\n",
      " Cluster 1 Sample Reviews:\n",
      "- Lovers of Mr. Rochester beware - in this, his second book of literary puzzles, John Sutherland turns his considerable powers of literary analysis towards, amongst other things, undoing the good reputa ...\n",
      "\n",
      "- As the name implies, this is about the elements of programming style. The examples are a bit dated (old languages, not C/C++/Java/the-next-great-language). But this isn't a *language* programming book ...\n",
      "\n",
      "\n",
      " Cluster 2 Sample Reviews:\n",
      "- The book contained more profanity than I expected to read in a book by Rita Rudner.  I had expected more humor from a comedienne.  Too bad, because I really like her humor\n",
      " ...\n",
      "\n",
      "- I don't know why it won the National Book Award.  This book is very slow, &amp; very boring.  Where is the action?  I forced myself to finish it\n",
      " ...\n",
      "\n",
      "\n",
      " Cluster 3 Sample Reviews:\n",
      "- This was perhaps the best of Johannes Steinhoff's books, since it does not  deal with his own stellar yet tragic WW II and post war career. The  insights of the average person living in Germany are of ...\n",
      "\n",
      "- The four tales in this collection are beautifully composed; they are art, not just stories.  Each story is deep in its unique complexities.  Each one has plots and subplots and paints an impeccable im ...\n",
      "\n",
      "\n",
      " Cluster 4 Sample Reviews:\n",
      "- This very fascinating book is a story written in the form of numerous letters and personal diary entries made by the principle character of the book.  It chronicals the life of a young Scottish woman  ...\n",
      "\n",
      "- The daughter of a prominent Boston doctor is dead, apparently from a botched abortion (which was illegal in the late 60's).  Dr. John Berry's friend, Art Lee, is in jail for the crime, which he says h ...\n",
      "\n"
     ]
    }
   ],
   "source": [
    "# Print 2 sample reviews from each cluster\n",
    "for i in range(k):\n",
    "    print(f\"\\n Cluster {i} Sample Reviews:\")\n",
    "    sample_reviews = df[df['cluster'] == i]['Review'].head(2)\n",
    "    for review in sample_reviews:\n",
    "        print(\"-\", review[:200], \"...\\n\")"
   ]
  },
  {
   "cell_type": "markdown",
   "metadata": {},
   "source": [
    "To implement my project plan, I followed the machine learning life cycle steps below:\n",
    "\n",
    "Data Preparation:\n",
    "- I kept only the Review column and removed the Positive Review label.\n",
    "- I cleaned the text by lowercasing, removing numbers, punctuation, and stopwords.\n",
    "- I created a review length column and removed very short reviews (less than 5 words) to reduce noise.\n",
    "\n",
    "Feature Engineering:\n",
    "- I used TF-IDF Vectorization to convert the cleaned reviews into numerical features.\n",
    "- I used max_df=0.95 and min_df=5 to ignore extremely common or rare words.\n",
    "\n",
    "Modeling:\n",
    "- I used KMeans Clustering with k=5 to group similar reviews together based on their text.\n",
    "- Each review was assigned to one of the 5 clusters.\n",
    "\n",
    "Evaluation:\n",
    "- I printed the top 10 words in each cluster to understand what each group is about.\n",
    "- I also printed example reviews from each cluster, which helped me confirm that the clusters make sense and contain similar themes.\n",
    "\n",
    "\n",
    "This process helped me uncover hidden patterns and themes in book reviews, even without any labels, by applying unsupervised machine learning techniques."
   ]
  }
 ],
 "metadata": {
  "kernelspec": {
   "display_name": "Python 3 (ipykernel)",
   "language": "python",
   "name": "python3"
  },
  "language_info": {
   "codemirror_mode": {
    "name": "ipython",
    "version": 3
   },
   "file_extension": ".py",
   "mimetype": "text/x-python",
   "name": "python",
   "nbconvert_exporter": "python",
   "pygments_lexer": "ipython3",
   "version": "3.9.19"
  },
  "toc": {
   "base_numbering": 1,
   "nav_menu": {},
   "number_sections": false,
   "sideBar": true,
   "skip_h1_title": false,
   "title_cell": "Table of Contents",
   "title_sidebar": "Contents",
   "toc_cell": false,
   "toc_position": {},
   "toc_section_display": true,
   "toc_window_display": false
  },
  "varInspector": {
   "cols": {
    "lenName": 16,
    "lenType": 16,
    "lenVar": 40
   },
   "kernels_config": {
    "python": {
     "delete_cmd_postfix": "",
     "delete_cmd_prefix": "del ",
     "library": "var_list.py",
     "varRefreshCmd": "print(var_dic_list())"
    },
    "r": {
     "delete_cmd_postfix": ") ",
     "delete_cmd_prefix": "rm(",
     "library": "var_list.r",
     "varRefreshCmd": "cat(var_dic_list()) "
    }
   },
   "types_to_exclude": [
    "module",
    "function",
    "builtin_function_or_method",
    "instance",
    "_Feature"
   ],
   "window_display": false
  }
 },
 "nbformat": 4,
 "nbformat_minor": 4
}
